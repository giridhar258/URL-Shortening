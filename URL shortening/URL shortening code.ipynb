{
 "cells": [
  {
   "cell_type": "code",
   "execution_count": 11,
   "id": "f919ec02-43be-4d6b-8c66-37446d5630ac",
   "metadata": {},
   "outputs": [
    {
     "name": "stdout",
     "output_type": "stream",
     "text": [
      " * Serving Flask app '__main__'\n",
      " * Debug mode: off\n"
     ]
    },
    {
     "name": "stderr",
     "output_type": "stream",
     "text": [
      "WARNING: This is a development server. Do not use it in a production deployment. Use a production WSGI server instead.\n",
      " * Running on http://127.0.0.1:5000\n",
      "Press CTRL+C to quit\n"
     ]
    }
   ],
   "source": [
    "import string\n",
    "import random\n",
    "from datetime import datetime\n",
    "from flask import Flask, request, jsonify, redirect\n",
    "import nest_asyncio\n",
    "import threading\n",
    "\n",
    "# Allow Flask to run inside Jupyter\n",
    "nest_asyncio.apply()\n",
    "\n",
    "app = Flask(__name__)\n",
    "\n",
    "# In-memory database\n",
    "urls = {}\n",
    "id_counter = 1\n",
    "\n",
    "# Helper: generate unique short code\n",
    "def generate_short_code(length=6):\n",
    "    characters = string.ascii_letters + string.digits\n",
    "    while True:\n",
    "        short_code = ''.join(random.choice(characters) for _ in range(length))\n",
    "        if short_code not in urls:\n",
    "            return short_code\n",
    "\n",
    "# 1️⃣ Create short URL\n",
    "@app.route('/shorten', methods=['POST'])\n",
    "def create_short_url():\n",
    "    global id_counter\n",
    "    data = request.get_json()\n",
    "    if not data or 'url' not in data:\n",
    "        return jsonify({\"error\": \"URL is required\"}), 400\n",
    "    short_code = generate_short_code()\n",
    "    now = datetime.utcnow().isoformat()\n",
    "    urls[short_code] = {\n",
    "        \"id\": str(id_counter),\n",
    "        \"url\": data[\"url\"],\n",
    "        \"shortCode\": short_code,\n",
    "        \"createdAt\": now,\n",
    "        \"updatedAt\": now,\n",
    "        \"accessCount\": 0\n",
    "    }\n",
    "    id_counter += 1\n",
    "    return jsonify(urls[short_code]), 201\n",
    "\n",
    "# 2️⃣ Retrieve original URL via API\n",
    "@app.route('/shorten/<short_code>', methods=['GET'])\n",
    "def get_original_url(short_code):\n",
    "    if short_code not in urls:\n",
    "        return jsonify({\"error\": \"Short URL not found\"}), 404\n",
    "    urls[short_code][\"accessCount\"] += 1\n",
    "    return jsonify(urls[short_code]), 200\n",
    "\n",
    "# 3️⃣ Update short URL\n",
    "@app.route('/shorten/<short_code>', methods=['PUT'])\n",
    "def update_short_url(short_code):\n",
    "    if short_code not in urls:\n",
    "        return jsonify({\"error\": \"Short URL not found\"}), 404\n",
    "    data = request.get_json()\n",
    "    if not data or \"url\" not in data:\n",
    "        return jsonify({\"error\": \"URL is required\"}), 400\n",
    "    urls[short_code][\"url\"] = data[\"url\"]\n",
    "    urls[short_code][\"updatedAt\"] = datetime.utcnow().isoformat()\n",
    "    return jsonify(urls[short_code]), 200\n",
    "\n",
    "# 4️⃣ Delete short URL\n",
    "@app.route('/shorten/<short_code>', methods=['DELETE'])\n",
    "def delete_short_url(short_code):\n",
    "    if short_code not in urls:\n",
    "        return jsonify({\"error\": \"Short URL not found\"}), 404\n",
    "    del urls[short_code]\n",
    "    return '', 204\n",
    "\n",
    "# 5️⃣ Get URL statistics\n",
    "@app.route('/shorten/<short_code>/stats', methods=['GET'])\n",
    "def get_stats(short_code):\n",
    "    if short_code not in urls:\n",
    "        return jsonify({\"error\": \"Short URL not found\"}), 404\n",
    "    return jsonify(urls[short_code]), 200\n",
    "\n",
    "# 6️⃣ Browser redirect\n",
    "@app.route('/r/<short_code>', methods=['GET'])\n",
    "def redirect_short_url(short_code):\n",
    "    if short_code not in urls:\n",
    "        return \"Short URL not found\", 404\n",
    "    urls[short_code][\"accessCount\"] += 1\n",
    "    return redirect(urls[short_code][\"url\"])\n",
    "\n",
    "# Run Flask in background thread\n",
    "def run_app():\n",
    "    app.run(port=5000, debug=False, use_reloader=False)\n",
    "\n",
    "thread = threading.Thread(target=run_app)\n",
    "thread.start()\n"
   ]
  },
  {
   "cell_type": "code",
   "execution_count": 12,
   "id": "2a0c8ccd-2deb-4661-897f-1fec5a744f5b",
   "metadata": {},
   "outputs": [
    {
     "name": "stdout",
     "output_type": "stream",
     "text": [
      "Short Code: 0vf3Kv\n",
      "Full API retrieve URL: http://127.0.0.1:5000/shorten/0vf3Kv\n",
      "Redirect URL: http://127.0.0.1:5000/r/0vf3Kv\n"
     ]
    }
   ],
   "source": [
    "import requests\n",
    "BASE_URL = \"http://127.0.0.1:5000\"\n",
    "\n",
    "resp = requests.post(f\"{BASE_URL}/shorten\", json={\"url\": \"https://www.example.com\"})\n",
    "data = resp.json()\n",
    "short_code = data[\"shortCode\"]\n",
    "print(\"Short Code:\", short_code)\n",
    "print(\"Full API retrieve URL:\", f\"{BASE_URL}/shorten/{short_code}\")\n",
    "print(\"Redirect URL:\", f\"{BASE_URL}/r/{short_code}\")\n"
   ]
  },
  {
   "cell_type": "code",
   "execution_count": 13,
   "id": "09b69b4e-75d3-4d22-aca7-4fe3e0a24040",
   "metadata": {},
   "outputs": [
    {
     "name": "stdout",
     "output_type": "stream",
     "text": [
      "{'accessCount': 2, 'createdAt': '2025-09-04T23:05:54.742783', 'id': '1', 'shortCode': '0vf3Kv', 'updatedAt': '2025-09-04T23:05:54.742783', 'url': 'https://www.example.com'}\n"
     ]
    }
   ],
   "source": [
    "resp = requests.get(f\"{BASE_URL}/shorten/{short_code}\")\n",
    "print(resp.json())\n"
   ]
  },
  {
   "cell_type": "code",
   "execution_count": 14,
   "id": "02e402f2-1572-4830-bfc2-31ea4a93c1a0",
   "metadata": {},
   "outputs": [
    {
     "name": "stdout",
     "output_type": "stream",
     "text": [
      "{'accessCount': 3, 'createdAt': '2025-09-04T23:05:54.742783', 'id': '1', 'shortCode': '0vf3Kv', 'updatedAt': '2025-09-04T23:05:54.742783', 'url': 'https://www.example.com'}\n"
     ]
    }
   ],
   "source": [
    "resp = requests.get(f\"{BASE_URL}/shorten/{short_code}/stats\")\n",
    "print(resp.json())\n"
   ]
  },
  {
   "cell_type": "code",
   "execution_count": null,
   "id": "58a82f97-8966-4031-9289-c17cadf7c6b6",
   "metadata": {},
   "outputs": [],
   "source": []
  }
 ],
 "metadata": {
  "kernelspec": {
   "display_name": "Python 3 (ipykernel)",
   "language": "python",
   "name": "python3"
  },
  "language_info": {
   "codemirror_mode": {
    "name": "ipython",
    "version": 3
   },
   "file_extension": ".py",
   "mimetype": "text/x-python",
   "name": "python",
   "nbconvert_exporter": "python",
   "pygments_lexer": "ipython3",
   "version": "3.13.5"
  }
 },
 "nbformat": 4,
 "nbformat_minor": 5
}
